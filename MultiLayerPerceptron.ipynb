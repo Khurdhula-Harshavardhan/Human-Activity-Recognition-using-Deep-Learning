{
 "cells": [
  {
   "cell_type": "markdown",
   "metadata": {},
   "source": [
    "Let's fit a MultilayerPerceptron for the train and tests sets that we have created."
   ]
  },
  {
   "cell_type": "markdown",
   "metadata": {},
   "source": [
    "    Import the Necessary modules."
   ]
  },
  {
   "cell_type": "code",
   "execution_count": 3,
   "metadata": {},
   "outputs": [
    {
     "name": "stdout",
     "output_type": "stream",
     "text": [
      "No GPU FOUND\n"
     ]
    }
   ],
   "source": [
    "from tensorflow.keras.models import Sequential\n",
    "from tensorflow.keras.layers import Dense, Flatten\n",
    "import tensorflow as tf\n",
    "physical_devices = tf.config.experimental.list_physical_devices('GPU')\n",
    "if len(physical_devices) > 0:\n",
    "    tf.config.experimental.set_memory_growth(physical_devices[0], True)\n",
    "else:\n",
    "    print(\"No GPU FOUND\")"
   ]
  },
  {
   "cell_type": "code",
   "execution_count": 4,
   "metadata": {},
   "outputs": [
    {
     "name": "stdout",
     "output_type": "stream",
     "text": [
      "Built with CUDA: False\n",
      "CUDA Version: MSVC 192930148\n"
     ]
    },
    {
     "ename": "KeyError",
     "evalue": "'cuda'",
     "output_type": "error",
     "traceback": [
      "\u001b[1;31m---------------------------------------------------------------------------\u001b[0m",
      "\u001b[1;31mKeyError\u001b[0m                                  Traceback (most recent call last)",
      "\u001b[1;32md:\\MyGitHub\\Human action recognition\\Human-Activity-Recognition-using-Deep-Learning\\MultiLayerPerceptron.ipynb Cell 4\u001b[0m line \u001b[0;36m5\n\u001b[0;32m      <a href='vscode-notebook-cell:/d%3A/MyGitHub/Human%20action%20recognition/Human-Activity-Recognition-using-Deep-Learning/MultiLayerPerceptron.ipynb#W4sZmlsZQ%3D%3D?line=2'>3</a>\u001b[0m \u001b[39mprint\u001b[39m(\u001b[39m\"\u001b[39m\u001b[39mBuilt with CUDA:\u001b[39m\u001b[39m\"\u001b[39m, tf\u001b[39m.\u001b[39mtest\u001b[39m.\u001b[39mis_built_with_cuda())\n\u001b[0;32m      <a href='vscode-notebook-cell:/d%3A/MyGitHub/Human%20action%20recognition/Human-Activity-Recognition-using-Deep-Learning/MultiLayerPerceptron.ipynb#W4sZmlsZQ%3D%3D?line=3'>4</a>\u001b[0m \u001b[39mprint\u001b[39m(\u001b[39m\"\u001b[39m\u001b[39mCUDA Version:\u001b[39m\u001b[39m\"\u001b[39m, tf\u001b[39m.\u001b[39mversion\u001b[39m.\u001b[39mCOMPILER_VERSION)\n\u001b[1;32m----> <a href='vscode-notebook-cell:/d%3A/MyGitHub/Human%20action%20recognition/Human-Activity-Recognition-using-Deep-Learning/MultiLayerPerceptron.ipynb#W4sZmlsZQ%3D%3D?line=4'>5</a>\u001b[0m \u001b[39mprint\u001b[39m(\u001b[39m\"\u001b[39m\u001b[39mcuDNN Version:\u001b[39m\u001b[39m\"\u001b[39m, tf\u001b[39m.\u001b[39;49msysconfig\u001b[39m.\u001b[39;49mget_build_info()[\u001b[39m\"\u001b[39;49m\u001b[39mcuda\u001b[39;49m\u001b[39m\"\u001b[39;49m]\u001b[39m.\u001b[39mget(\u001b[39m\"\u001b[39m\u001b[39mcudnn_version\u001b[39m\u001b[39m\"\u001b[39m))\n",
      "\u001b[1;31mKeyError\u001b[0m: 'cuda'"
     ]
    }
   ],
   "source": [
    "import tensorflow as tf\n",
    "\n",
    "print(\"Built with CUDA:\", tf.test.is_built_with_cuda())\n",
    "print(\"CUDA Version:\", tf.version.COMPILER_VERSION)\n",
    "print(\"cuDNN Version:\", tf.sysconfig.get_build_info()[\"cuda\"].get(\"cudnn_version\"))\n"
   ]
  }
 ],
 "metadata": {
  "kernelspec": {
   "display_name": "Python 3",
   "language": "python",
   "name": "python3"
  },
  "language_info": {
   "codemirror_mode": {
    "name": "ipython",
    "version": 3
   },
   "file_extension": ".py",
   "mimetype": "text/x-python",
   "name": "python",
   "nbconvert_exporter": "python",
   "pygments_lexer": "ipython3",
   "version": "3.11.1"
  }
 },
 "nbformat": 4,
 "nbformat_minor": 2
}
